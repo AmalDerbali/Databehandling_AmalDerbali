{
 "cells": [
  {
   "cell_type": "markdown",
   "metadata": {},
   "source": [
    "# Stockdata API"
   ]
  },
  {
   "cell_type": "code",
   "execution_count": 18,
   "metadata": {},
   "outputs": [
    {
     "name": "stderr",
     "output_type": "stream",
     "text": [
      "Python-dotenv could not parse statement starting at line 1\n"
     ]
    }
   ],
   "source": [
    "import requests\n",
    "from dotenv import load_dotenv\n",
    "import pandas as pd \n",
    "import seaborn as sns \n",
    "import matplotlib.pyplot as plt \n",
    "import os\n",
    "\n",
    "load_dotenv()\n",
    "api_key = os.getenv(\"ALPHA_API_KEY\")\n",
    "symbol = \"AAPL\"\n",
    "\n",
    "# print(api_key)\n",
    "\n",
    "url = f\"https://www.alphavantage.co/query?function=TIME_SERIES_DAILY&symbol={symbol}&outputsize=full&apikey={api_key}\"\n",
    "data = requests.get(url).json()\n"
   ]
  },
  {
   "cell_type": "code",
   "execution_count": 19,
   "metadata": {},
   "outputs": [
    {
     "data": {
      "text/html": [
       "<div>\n",
       "<style scoped>\n",
       "    .dataframe tbody tr th:only-of-type {\n",
       "        vertical-align: middle;\n",
       "    }\n",
       "\n",
       "    .dataframe tbody tr th {\n",
       "        vertical-align: top;\n",
       "    }\n",
       "\n",
       "    .dataframe thead th {\n",
       "        text-align: right;\n",
       "    }\n",
       "</style>\n",
       "<table border=\"1\" class=\"dataframe\">\n",
       "  <thead>\n",
       "    <tr style=\"text-align: right;\">\n",
       "      <th></th>\n",
       "      <th>2021-10-29</th>\n",
       "      <th>2021-10-28</th>\n",
       "      <th>2021-10-27</th>\n",
       "      <th>2021-10-26</th>\n",
       "      <th>2021-10-25</th>\n",
       "      <th>2021-10-22</th>\n",
       "      <th>2021-10-21</th>\n",
       "      <th>2021-10-20</th>\n",
       "      <th>2021-10-19</th>\n",
       "      <th>2021-10-18</th>\n",
       "      <th>...</th>\n",
       "      <th>1999-11-12</th>\n",
       "      <th>1999-11-11</th>\n",
       "      <th>1999-11-10</th>\n",
       "      <th>1999-11-09</th>\n",
       "      <th>1999-11-08</th>\n",
       "      <th>1999-11-05</th>\n",
       "      <th>1999-11-04</th>\n",
       "      <th>1999-11-03</th>\n",
       "      <th>1999-11-02</th>\n",
       "      <th>1999-11-01</th>\n",
       "    </tr>\n",
       "  </thead>\n",
       "  <tbody>\n",
       "    <tr>\n",
       "      <th>1. open</th>\n",
       "      <td>147.2150</td>\n",
       "      <td>149.8200</td>\n",
       "      <td>149.3600</td>\n",
       "      <td>149.3300</td>\n",
       "      <td>148.6800</td>\n",
       "      <td>149.6900</td>\n",
       "      <td>148.8100</td>\n",
       "      <td>148.7000</td>\n",
       "      <td>147.0100</td>\n",
       "      <td>143.4450</td>\n",
       "      <td>...</td>\n",
       "      <td>91.9400</td>\n",
       "      <td>91.5900</td>\n",
       "      <td>88.2500</td>\n",
       "      <td>94.3700</td>\n",
       "      <td>87.7500</td>\n",
       "      <td>84.6200</td>\n",
       "      <td>82.0600</td>\n",
       "      <td>81.6200</td>\n",
       "      <td>78.0000</td>\n",
       "      <td>80.0000</td>\n",
       "    </tr>\n",
       "    <tr>\n",
       "      <th>2. high</th>\n",
       "      <td>149.9400</td>\n",
       "      <td>153.1650</td>\n",
       "      <td>149.7300</td>\n",
       "      <td>150.8400</td>\n",
       "      <td>149.3700</td>\n",
       "      <td>150.1800</td>\n",
       "      <td>149.6400</td>\n",
       "      <td>149.7539</td>\n",
       "      <td>149.1700</td>\n",
       "      <td>146.8400</td>\n",
       "      <td>...</td>\n",
       "      <td>92.0000</td>\n",
       "      <td>92.6200</td>\n",
       "      <td>93.2500</td>\n",
       "      <td>94.5000</td>\n",
       "      <td>97.7300</td>\n",
       "      <td>88.3700</td>\n",
       "      <td>85.3700</td>\n",
       "      <td>83.2500</td>\n",
       "      <td>81.6900</td>\n",
       "      <td>80.6900</td>\n",
       "    </tr>\n",
       "    <tr>\n",
       "      <th>3. low</th>\n",
       "      <td>146.4128</td>\n",
       "      <td>149.7200</td>\n",
       "      <td>148.4900</td>\n",
       "      <td>149.0101</td>\n",
       "      <td>147.6211</td>\n",
       "      <td>148.6400</td>\n",
       "      <td>147.8700</td>\n",
       "      <td>148.1200</td>\n",
       "      <td>146.5500</td>\n",
       "      <td>143.1600</td>\n",
       "      <td>...</td>\n",
       "      <td>87.3700</td>\n",
       "      <td>89.8700</td>\n",
       "      <td>88.1200</td>\n",
       "      <td>88.0000</td>\n",
       "      <td>86.7500</td>\n",
       "      <td>84.0000</td>\n",
       "      <td>80.6200</td>\n",
       "      <td>81.0000</td>\n",
       "      <td>77.3100</td>\n",
       "      <td>77.3700</td>\n",
       "    </tr>\n",
       "    <tr>\n",
       "      <th>4. close</th>\n",
       "      <td>149.8000</td>\n",
       "      <td>152.5700</td>\n",
       "      <td>148.8500</td>\n",
       "      <td>149.3200</td>\n",
       "      <td>148.6400</td>\n",
       "      <td>148.6900</td>\n",
       "      <td>149.4800</td>\n",
       "      <td>149.2600</td>\n",
       "      <td>148.7600</td>\n",
       "      <td>146.5500</td>\n",
       "      <td>...</td>\n",
       "      <td>90.6200</td>\n",
       "      <td>92.2500</td>\n",
       "      <td>91.4400</td>\n",
       "      <td>89.6200</td>\n",
       "      <td>96.3700</td>\n",
       "      <td>88.3100</td>\n",
       "      <td>83.6200</td>\n",
       "      <td>81.5000</td>\n",
       "      <td>80.2500</td>\n",
       "      <td>77.6200</td>\n",
       "    </tr>\n",
       "    <tr>\n",
       "      <th>5. volume</th>\n",
       "      <td>124953168</td>\n",
       "      <td>100077888</td>\n",
       "      <td>56094929</td>\n",
       "      <td>60893395</td>\n",
       "      <td>50720556</td>\n",
       "      <td>58883443</td>\n",
       "      <td>61420990</td>\n",
       "      <td>58418788</td>\n",
       "      <td>76378894</td>\n",
       "      <td>85589175</td>\n",
       "      <td>...</td>\n",
       "      <td>2491600</td>\n",
       "      <td>2409600</td>\n",
       "      <td>5159800</td>\n",
       "      <td>7224800</td>\n",
       "      <td>8490400</td>\n",
       "      <td>3721500</td>\n",
       "      <td>3384700</td>\n",
       "      <td>2932700</td>\n",
       "      <td>3564600</td>\n",
       "      <td>2487300</td>\n",
       "    </tr>\n",
       "  </tbody>\n",
       "</table>\n",
       "<p>5 rows × 5536 columns</p>\n",
       "</div>"
      ],
      "text/plain": [
       "          2021-10-29 2021-10-28 2021-10-27 2021-10-26 2021-10-25 2021-10-22  \\\n",
       "1. open     147.2150   149.8200   149.3600   149.3300   148.6800   149.6900   \n",
       "2. high     149.9400   153.1650   149.7300   150.8400   149.3700   150.1800   \n",
       "3. low      146.4128   149.7200   148.4900   149.0101   147.6211   148.6400   \n",
       "4. close    149.8000   152.5700   148.8500   149.3200   148.6400   148.6900   \n",
       "5. volume  124953168  100077888   56094929   60893395   50720556   58883443   \n",
       "\n",
       "          2021-10-21 2021-10-20 2021-10-19 2021-10-18  ... 1999-11-12  \\\n",
       "1. open     148.8100   148.7000   147.0100   143.4450  ...    91.9400   \n",
       "2. high     149.6400   149.7539   149.1700   146.8400  ...    92.0000   \n",
       "3. low      147.8700   148.1200   146.5500   143.1600  ...    87.3700   \n",
       "4. close    149.4800   149.2600   148.7600   146.5500  ...    90.6200   \n",
       "5. volume   61420990   58418788   76378894   85589175  ...    2491600   \n",
       "\n",
       "          1999-11-11 1999-11-10 1999-11-09 1999-11-08 1999-11-05 1999-11-04  \\\n",
       "1. open      91.5900    88.2500    94.3700    87.7500    84.6200    82.0600   \n",
       "2. high      92.6200    93.2500    94.5000    97.7300    88.3700    85.3700   \n",
       "3. low       89.8700    88.1200    88.0000    86.7500    84.0000    80.6200   \n",
       "4. close     92.2500    91.4400    89.6200    96.3700    88.3100    83.6200   \n",
       "5. volume    2409600    5159800    7224800    8490400    3721500    3384700   \n",
       "\n",
       "          1999-11-03 1999-11-02 1999-11-01  \n",
       "1. open      81.6200    78.0000    80.0000  \n",
       "2. high      83.2500    81.6900    80.6900  \n",
       "3. low       81.0000    77.3100    77.3700  \n",
       "4. close     81.5000    80.2500    77.6200  \n",
       "5. volume    2932700    3564600    2487300  \n",
       "\n",
       "[5 rows x 5536 columns]"
      ]
     },
     "execution_count": 19,
     "metadata": {},
     "output_type": "execute_result"
    }
   ],
   "source": [
    "pd.DataFrame(data[\"Time Series (Daily)\"])"
   ]
  },
  {
   "cell_type": "code",
   "execution_count": 20,
   "metadata": {},
   "outputs": [
    {
     "name": "stdout",
     "output_type": "stream",
     "text": [
      "object\n"
     ]
    }
   ],
   "source": [
    "pd.index = pd.to_datetime(df.index)\n",
    "print(df.index.dtype)\n"
   ]
  },
  {
   "cell_type": "code",
   "execution_count": 21,
   "metadata": {},
   "outputs": [
    {
     "ename": "ValueError",
     "evalue": "No axis named 2021 for object type Series",
     "output_type": "error",
     "traceback": [
      "\u001b[1;31m---------------------------------------------------------------------------\u001b[0m",
      "\u001b[1;31mKeyError\u001b[0m                                  Traceback (most recent call last)",
      "\u001b[1;32m~\\.virtualenvs\\Databehandling_AmalDerbali-nr6qnhqz\\lib\\site-packages\\pandas\\core\\generic.py\u001b[0m in \u001b[0;36m_get_axis_number\u001b[1;34m(cls, axis)\u001b[0m\n\u001b[0;32m    545\u001b[0m         \u001b[1;32mtry\u001b[0m\u001b[1;33m:\u001b[0m\u001b[1;33m\u001b[0m\u001b[1;33m\u001b[0m\u001b[0m\n\u001b[1;32m--> 546\u001b[1;33m             \u001b[1;32mreturn\u001b[0m \u001b[0mcls\u001b[0m\u001b[1;33m.\u001b[0m\u001b[0m_AXIS_TO_AXIS_NUMBER\u001b[0m\u001b[1;33m[\u001b[0m\u001b[0maxis\u001b[0m\u001b[1;33m]\u001b[0m\u001b[1;33m\u001b[0m\u001b[1;33m\u001b[0m\u001b[0m\n\u001b[0m\u001b[0;32m    547\u001b[0m         \u001b[1;32mexcept\u001b[0m \u001b[0mKeyError\u001b[0m\u001b[1;33m:\u001b[0m\u001b[1;33m\u001b[0m\u001b[1;33m\u001b[0m\u001b[0m\n",
      "\u001b[1;31mKeyError\u001b[0m: '2021'",
      "\nDuring handling of the above exception, another exception occurred:\n",
      "\u001b[1;31mValueError\u001b[0m                                Traceback (most recent call last)",
      "\u001b[1;32mC:\\Users\\AMALDE~1\\AppData\\Local\\Temp/ipykernel_11736/598143150.py\u001b[0m in \u001b[0;36m<module>\u001b[1;34m\u001b[0m\n\u001b[1;32m----> 1\u001b[1;33m \u001b[0mdf\u001b[0m\u001b[1;33m.\u001b[0m\u001b[0mloc\u001b[0m\u001b[1;33m(\u001b[0m\u001b[1;34m\"2021\"\u001b[0m\u001b[1;33m)\u001b[0m\u001b[1;33m\u001b[0m\u001b[1;33m\u001b[0m\u001b[0m\n\u001b[0m",
      "\u001b[1;32m~\\.virtualenvs\\Databehandling_AmalDerbali-nr6qnhqz\\lib\\site-packages\\pandas\\core\\indexing.py\u001b[0m in \u001b[0;36m__call__\u001b[1;34m(self, axis)\u001b[0m\n\u001b[0;32m    635\u001b[0m \u001b[1;33m\u001b[0m\u001b[0m\n\u001b[0;32m    636\u001b[0m         \u001b[1;32mif\u001b[0m \u001b[0maxis\u001b[0m \u001b[1;32mis\u001b[0m \u001b[1;32mnot\u001b[0m \u001b[1;32mNone\u001b[0m\u001b[1;33m:\u001b[0m\u001b[1;33m\u001b[0m\u001b[1;33m\u001b[0m\u001b[0m\n\u001b[1;32m--> 637\u001b[1;33m             \u001b[0maxis\u001b[0m \u001b[1;33m=\u001b[0m \u001b[0mself\u001b[0m\u001b[1;33m.\u001b[0m\u001b[0mobj\u001b[0m\u001b[1;33m.\u001b[0m\u001b[0m_get_axis_number\u001b[0m\u001b[1;33m(\u001b[0m\u001b[0maxis\u001b[0m\u001b[1;33m)\u001b[0m\u001b[1;33m\u001b[0m\u001b[1;33m\u001b[0m\u001b[0m\n\u001b[0m\u001b[0;32m    638\u001b[0m         \u001b[0mnew_self\u001b[0m\u001b[1;33m.\u001b[0m\u001b[0maxis\u001b[0m \u001b[1;33m=\u001b[0m \u001b[0maxis\u001b[0m\u001b[1;33m\u001b[0m\u001b[1;33m\u001b[0m\u001b[0m\n\u001b[0;32m    639\u001b[0m         \u001b[1;32mreturn\u001b[0m \u001b[0mnew_self\u001b[0m\u001b[1;33m\u001b[0m\u001b[1;33m\u001b[0m\u001b[0m\n",
      "\u001b[1;32m~\\.virtualenvs\\Databehandling_AmalDerbali-nr6qnhqz\\lib\\site-packages\\pandas\\core\\generic.py\u001b[0m in \u001b[0;36m_get_axis_number\u001b[1;34m(cls, axis)\u001b[0m\n\u001b[0;32m    546\u001b[0m             \u001b[1;32mreturn\u001b[0m \u001b[0mcls\u001b[0m\u001b[1;33m.\u001b[0m\u001b[0m_AXIS_TO_AXIS_NUMBER\u001b[0m\u001b[1;33m[\u001b[0m\u001b[0maxis\u001b[0m\u001b[1;33m]\u001b[0m\u001b[1;33m\u001b[0m\u001b[1;33m\u001b[0m\u001b[0m\n\u001b[0;32m    547\u001b[0m         \u001b[1;32mexcept\u001b[0m \u001b[0mKeyError\u001b[0m\u001b[1;33m:\u001b[0m\u001b[1;33m\u001b[0m\u001b[1;33m\u001b[0m\u001b[0m\n\u001b[1;32m--> 548\u001b[1;33m             \u001b[1;32mraise\u001b[0m \u001b[0mValueError\u001b[0m\u001b[1;33m(\u001b[0m\u001b[1;34mf\"No axis named {axis} for object type {cls.__name__}\"\u001b[0m\u001b[1;33m)\u001b[0m\u001b[1;33m\u001b[0m\u001b[1;33m\u001b[0m\u001b[0m\n\u001b[0m\u001b[0;32m    549\u001b[0m \u001b[1;33m\u001b[0m\u001b[0m\n\u001b[0;32m    550\u001b[0m     \u001b[1;33m@\u001b[0m\u001b[0mfinal\u001b[0m\u001b[1;33m\u001b[0m\u001b[1;33m\u001b[0m\u001b[0m\n",
      "\u001b[1;31mValueError\u001b[0m: No axis named 2021 for object type Series"
     ]
    }
   ],
   "source": [
    "df.loc(\"2021\")"
   ]
  },
  {
   "cell_type": "code",
   "execution_count": null,
   "metadata": {},
   "outputs": [
    {
     "ename": "NameError",
     "evalue": "name 'df' is not defined",
     "output_type": "error",
     "traceback": [
      "\u001b[1;31m---------------------------------------------------------------------------\u001b[0m",
      "\u001b[1;31mNameError\u001b[0m                                 Traceback (most recent call last)",
      "\u001b[1;32mC:\\Users\\AMALDE~1\\AppData\\Local\\Temp/ipykernel_6936/1681934805.py\u001b[0m in \u001b[0;36m<module>\u001b[1;34m\u001b[0m\n\u001b[1;32m----> 1\u001b[1;33m \u001b[0mdf\u001b[0m\u001b[1;33m.\u001b[0m\u001b[0mloc\u001b[0m\u001b[1;33m[\u001b[0m\u001b[1;34m\"2021-10-20\"\u001b[0m\u001b[1;33m:\u001b[0m\u001b[1;34m\"2021-10-29\"\u001b[0m\u001b[1;33m]\u001b[0m\u001b[1;33m\u001b[0m\u001b[1;33m\u001b[0m\u001b[0m\n\u001b[0m",
      "\u001b[1;31mNameError\u001b[0m: name 'df' is not defined"
     ]
    }
   ],
   "source": [
    "df.loc[\"2021-10-20\":\"2021-10-29\"]"
   ]
  },
  {
   "cell_type": "code",
   "execution_count": 22,
   "metadata": {},
   "outputs": [
    {
     "name": "stderr",
     "output_type": "stream",
     "text": [
      "Python-dotenv could not parse statement starting at line 1\n"
     ]
    }
   ],
   "source": [
    "import os\n",
    "from dotenv import load_dotenv\n",
    "import requests\n",
    "import pandas as pd\n",
    "\n",
    "load_dotenv()\n",
    "api_key = os.getenv(\"ALPHA_API_KEY\")\n",
    "# NOTE: you can print it for your own validation, but remove the print before pushing to Github\n",
    "\n",
    "symbols = [\"AAPL\", \"NVDA\", \"TSLA\", \"IBM\"]\n",
    "stock_list = []\n",
    "\n",
    "for symbol in symbols:\n",
    "    function = \"TIME_SERIES_DAILY\"\n",
    "\n",
    "    url = f'https://www.alphavantage.co/query?function={function}&symbol={symbol}&apikey={api_key}&outputsize=full'\n",
    "    data = requests.get(url).json()\n",
    "    df = pd.DataFrame(data[\"Time Series (Daily)\"]).transpose()\n",
    "    df = df[\"4. close\"].rename(symbol).astype(float)\n",
    "    stock_list.append(df)"
   ]
  },
  {
   "cell_type": "code",
   "execution_count": 23,
   "metadata": {},
   "outputs": [
    {
     "data": {
      "text/html": [
       "<div>\n",
       "<style scoped>\n",
       "    .dataframe tbody tr th:only-of-type {\n",
       "        vertical-align: middle;\n",
       "    }\n",
       "\n",
       "    .dataframe tbody tr th {\n",
       "        vertical-align: top;\n",
       "    }\n",
       "\n",
       "    .dataframe thead th {\n",
       "        text-align: right;\n",
       "    }\n",
       "</style>\n",
       "<table border=\"1\" class=\"dataframe\">\n",
       "  <thead>\n",
       "    <tr style=\"text-align: right;\">\n",
       "      <th></th>\n",
       "      <th>AAPL</th>\n",
       "      <th>NVDA</th>\n",
       "      <th>TSLA</th>\n",
       "      <th>IBM</th>\n",
       "    </tr>\n",
       "  </thead>\n",
       "  <tbody>\n",
       "    <tr>\n",
       "      <th>2021-10-29</th>\n",
       "      <td>149.80</td>\n",
       "      <td>255.67</td>\n",
       "      <td>1114.00</td>\n",
       "      <td>125.10</td>\n",
       "    </tr>\n",
       "    <tr>\n",
       "      <th>2021-10-28</th>\n",
       "      <td>152.57</td>\n",
       "      <td>249.41</td>\n",
       "      <td>1077.04</td>\n",
       "      <td>125.84</td>\n",
       "    </tr>\n",
       "    <tr>\n",
       "      <th>2021-10-27</th>\n",
       "      <td>148.85</td>\n",
       "      <td>244.51</td>\n",
       "      <td>1037.86</td>\n",
       "      <td>125.17</td>\n",
       "    </tr>\n",
       "    <tr>\n",
       "      <th>2021-10-26</th>\n",
       "      <td>149.32</td>\n",
       "      <td>247.17</td>\n",
       "      <td>1018.43</td>\n",
       "      <td>127.13</td>\n",
       "    </tr>\n",
       "    <tr>\n",
       "      <th>2021-10-25</th>\n",
       "      <td>148.64</td>\n",
       "      <td>231.66</td>\n",
       "      <td>1024.86</td>\n",
       "      <td>127.64</td>\n",
       "    </tr>\n",
       "    <tr>\n",
       "      <th>...</th>\n",
       "      <td>...</td>\n",
       "      <td>...</td>\n",
       "      <td>...</td>\n",
       "      <td>...</td>\n",
       "    </tr>\n",
       "    <tr>\n",
       "      <th>1999-11-05</th>\n",
       "      <td>88.31</td>\n",
       "      <td>28.25</td>\n",
       "      <td>NaN</td>\n",
       "      <td>90.25</td>\n",
       "    </tr>\n",
       "    <tr>\n",
       "      <th>1999-11-04</th>\n",
       "      <td>83.62</td>\n",
       "      <td>29.19</td>\n",
       "      <td>NaN</td>\n",
       "      <td>91.56</td>\n",
       "    </tr>\n",
       "    <tr>\n",
       "      <th>1999-11-03</th>\n",
       "      <td>81.50</td>\n",
       "      <td>27.44</td>\n",
       "      <td>NaN</td>\n",
       "      <td>94.37</td>\n",
       "    </tr>\n",
       "    <tr>\n",
       "      <th>1999-11-02</th>\n",
       "      <td>80.25</td>\n",
       "      <td>25.00</td>\n",
       "      <td>NaN</td>\n",
       "      <td>94.81</td>\n",
       "    </tr>\n",
       "    <tr>\n",
       "      <th>1999-11-01</th>\n",
       "      <td>77.62</td>\n",
       "      <td>23.50</td>\n",
       "      <td>NaN</td>\n",
       "      <td>96.75</td>\n",
       "    </tr>\n",
       "  </tbody>\n",
       "</table>\n",
       "<p>5536 rows × 4 columns</p>\n",
       "</div>"
      ],
      "text/plain": [
       "              AAPL    NVDA     TSLA     IBM\n",
       "2021-10-29  149.80  255.67  1114.00  125.10\n",
       "2021-10-28  152.57  249.41  1077.04  125.84\n",
       "2021-10-27  148.85  244.51  1037.86  125.17\n",
       "2021-10-26  149.32  247.17  1018.43  127.13\n",
       "2021-10-25  148.64  231.66  1024.86  127.64\n",
       "...            ...     ...      ...     ...\n",
       "1999-11-05   88.31   28.25      NaN   90.25\n",
       "1999-11-04   83.62   29.19      NaN   91.56\n",
       "1999-11-03   81.50   27.44      NaN   94.37\n",
       "1999-11-02   80.25   25.00      NaN   94.81\n",
       "1999-11-01   77.62   23.50      NaN   96.75\n",
       "\n",
       "[5536 rows x 4 columns]"
      ]
     },
     "execution_count": 23,
     "metadata": {},
     "output_type": "execute_result"
    }
   ],
   "source": [
    "stocks =pd.concat(stock_list, axis =1)\n",
    "stocks.to_csv(\"stocks.csv\")\n",
    "stocks"
   ]
  },
  {
   "cell_type": "code",
   "execution_count": 24,
   "metadata": {},
   "outputs": [
    {
     "name": "stdout",
     "output_type": "stream",
     "text": [
      "(2, 2)\n"
     ]
    },
    {
     "ename": "TypeError",
     "evalue": "'tuple' object is not callable",
     "output_type": "error",
     "traceback": [
      "\u001b[1;31m---------------------------------------------------------------------------\u001b[0m",
      "\u001b[1;31mTypeError\u001b[0m                                 Traceback (most recent call last)",
      "\u001b[1;32mC:\\Users\\AMALDE~1\\AppData\\Local\\Temp/ipykernel_11736/1868321540.py\u001b[0m in \u001b[0;36m<module>\u001b[1;34m\u001b[0m\n\u001b[0;32m      1\u001b[0m \u001b[0mfig\u001b[0m\u001b[1;33m,\u001b[0m \u001b[0maxes\u001b[0m \u001b[1;33m=\u001b[0m \u001b[0mplt\u001b[0m\u001b[1;33m.\u001b[0m\u001b[0msubplots\u001b[0m\u001b[1;33m(\u001b[0m\u001b[1;36m2\u001b[0m\u001b[1;33m,\u001b[0m \u001b[1;36m2\u001b[0m\u001b[1;33m)\u001b[0m\u001b[1;33m\u001b[0m\u001b[1;33m\u001b[0m\u001b[0m\n\u001b[0;32m      2\u001b[0m \u001b[0mprint\u001b[0m\u001b[1;33m(\u001b[0m\u001b[0maxes\u001b[0m\u001b[1;33m.\u001b[0m\u001b[0mshape\u001b[0m\u001b[1;33m)\u001b[0m\u001b[1;33m\u001b[0m\u001b[1;33m\u001b[0m\u001b[0m\n\u001b[1;32m----> 3\u001b[1;33m \u001b[0mprint\u001b[0m\u001b[1;33m(\u001b[0m\u001b[0maxes\u001b[0m\u001b[1;33m.\u001b[0m\u001b[0mflatten\u001b[0m\u001b[1;33m(\u001b[0m\u001b[1;33m)\u001b[0m\u001b[1;33m.\u001b[0m\u001b[0mshape\u001b[0m\u001b[1;33m(\u001b[0m\u001b[1;33m)\u001b[0m\u001b[1;33m)\u001b[0m\u001b[1;33m\u001b[0m\u001b[1;33m\u001b[0m\u001b[0m\n\u001b[0m\u001b[0;32m      4\u001b[0m \u001b[0mstock_names\u001b[0m \u001b[1;33m=\u001b[0m\u001b[0mdict\u001b[0m\u001b[1;33m(\u001b[0m\u001b[0mAAPL\u001b[0m\u001b[1;33m=\u001b[0m\u001b[1;34m\"Apple\"\u001b[0m\u001b[1;33m,\u001b[0m \u001b[0mNVDA\u001b[0m\u001b[1;33m=\u001b[0m\u001b[1;34m\"Nivada\"\u001b[0m\u001b[1;33m,\u001b[0m \u001b[0mTSLA\u001b[0m\u001b[1;33m=\u001b[0m\u001b[1;34m\"Tesla\"\u001b[0m\u001b[1;33m,\u001b[0m \u001b[0mIBM\u001b[0m\u001b[1;33m=\u001b[0m\u001b[1;34m\"IBM\"\u001b[0m\u001b[1;33m)\u001b[0m\u001b[1;33m\u001b[0m\u001b[1;33m\u001b[0m\u001b[0m\n\u001b[0;32m      5\u001b[0m \u001b[1;32mfor\u001b[0m \u001b[0max\u001b[0m\u001b[1;33m,\u001b[0m \u001b[0msymbol\u001b[0m \u001b[1;32min\u001b[0m \u001b[0mzip\u001b[0m\u001b[1;33m(\u001b[0m\u001b[0maxes\u001b[0m\u001b[1;33m.\u001b[0m\u001b[0mflatten\u001b[0m\u001b[1;33m(\u001b[0m\u001b[1;33m)\u001b[0m\u001b[1;33m,\u001b[0m \u001b[0mstock_names\u001b[0m\u001b[1;33m)\u001b[0m\u001b[1;33m:\u001b[0m\u001b[1;33m\u001b[0m\u001b[1;33m\u001b[0m\u001b[0m\n",
      "\u001b[1;31mTypeError\u001b[0m: 'tuple' object is not callable"
     ]
    },
    {
     "data": {
      "image/png": "[encoded data removed]",
      "text/plain": [
       "<Figure size 432x288 with 4 Axes>"
      ]
     },
     "metadata": {
      "needs_background": "light"
     },
     "output_type": "display_data"
    }
   ],
   "source": [
    "fig, axes = plt.subplots(2, 2)\n",
    "print(axes.shape)\n",
    "print(axes.flatten().shape())\n",
    "stock_names =dict(AAPL=\"Apple\", NVDA=\"Nivada\", TSLA=\"Tesla\", IBM=\"IBM\")\n",
    "for ax, symbol in zip(axes.flatten(), stock_names):\n",
    "    sns.lineplot(data = stocks, x=stocks.index, y=symbol, ax = ax)\n",
    "    ax.tick_params(axis ='x', rotation =45)\n",
    "    ax.set(title = f\"{stock_names[symbol]}\", ylabel=\"Price in dollars $\")\n",
    "fig.tight_layout()\n",
    "fig.subtitle(\"Stocks\")\n",
    "    "
   ]
  }
 ],
 "metadata": {
  "interpreter": {
   "hash": "2a2f754b5f3390bc8af0d82e9e1cabbf0199827191609cb194520673ea5aa84e"
  },
  "kernelspec": {
   "display_name": "Python 3.9.6 64-bit ('Databehandling_AmalDerbali-nr6qnhqz': pipenv)",
   "name": "python3"
  },
  "language_info": {
   "codemirror_mode": {
    "name": "ipython",
    "version": 3
   },
   "file_extension": ".py",
   "mimetype": "text/x-python",
   "name": "python",
   "nbconvert_exporter": "python",
   "pygments_lexer": "ipython3",
   "version": "3.9.6"
  },
  "orig_nbformat": 4
 },
 "nbformat": 4,
 "nbformat_minor": 2
}
